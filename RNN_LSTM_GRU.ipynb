{
  "cells": [
    {
      "cell_type": "markdown",
      "metadata": {
        "id": "P9hpIWWPTId8"
      },
      "source": [
        "# Importing Modules"
      ]
    },
    {
      "cell_type": "code",
      "execution_count": null,
      "metadata": {
        "id": "BynQiUVGTId-"
      },
      "outputs": [],
      "source": [
        "import numpy as np\n",
        "import matplotlib.pyplot as plt\n",
        "import torch\n",
        "import torch.nn as nn\n",
        "import math"
      ]
    },
    {
      "cell_type": "code",
      "execution_count": null,
      "metadata": {
        "id": "kL34FCmJTId_",
        "outputId": "4cb2f6de-b14a-4d3e-f8d5-482e0c4c5e40"
      },
      "outputs": [
        {
          "data": {
            "text/plain": [
              "<torch.autograd.anomaly_mode.set_detect_anomaly at 0x7f8dd2e0f7f0>"
            ]
          },
          "execution_count": 3,
          "metadata": {},
          "output_type": "execute_result"
        }
      ],
      "source": [
        "torch.autograd.set_detect_anomaly(True)"
      ]
    },
    {
      "cell_type": "markdown",
      "metadata": {
        "id": "HU4yhPWBTIeA"
      },
      "source": [
        "# Common Functions"
      ]
    },
    {
      "cell_type": "code",
      "execution_count": null,
      "metadata": {
        "id": "F5G26uToTIeA"
      },
      "outputs": [],
      "source": [
        "def generate_dataset(number_of_samples: int, max_length: int):\n",
        "    x = []\n",
        "    y = np.zeros((number_of_samples))\n",
        "    for i in range(number_of_samples):\n",
        "        length = np.random.randint(3, max_length + 1)\n",
        "        random_values = np.random.rand(length)\n",
        "        target_index1, target_index2 = np.random.choice(length, 2, replace=False)\n",
        "        new_x = np.zeros((length, 2))\n",
        "        new_x[:, 0] = random_values\n",
        "        new_x[target_index1, 1] = 1\n",
        "        new_x[target_index2, 1] = 1\n",
        "        x.append(new_x)\n",
        "        y[i] = random_values[target_index1] + random_values[target_index2]\n",
        "\n",
        "    x = np.array(x)\n",
        "    return x, y"
      ]
    },
    {
      "cell_type": "code",
      "execution_count": null,
      "metadata": {
        "id": "qaWHf8kCTIeB"
      },
      "outputs": [],
      "source": [
        "def train(model, x, y, learning_rate, number_of_epochs):\n",
        "    model.train()\n",
        "    optimizer = torch.optim.Adam(model.parameters(), lr=learning_rate)\n",
        "    loss_fn = nn.functional.mse_loss\n",
        "    loss_history = []\n",
        "    for epoch in range(number_of_epochs):\n",
        "        loss = 0\n",
        "        for i in range(x.shape[0]):\n",
        "            optimizer.zero_grad()\n",
        "            x_i = torch.tensor(x[i], dtype=torch.float32)\n",
        "            y_i = torch.tensor(y[i], dtype=torch.float32)\n",
        "            y_pred = model.forward(x_i)\n",
        "            loss_i = loss_fn(y_pred, y_i)\n",
        "            loss_i.backward()\n",
        "            optimizer.step()\n",
        "            loss += loss_i.item()\n",
        "        print(\"===========> Epoch: {}, Loss: {}\".format(epoch + 1, loss / x.shape[0]))\n",
        "        loss_history.append(loss / x.shape[0])\n",
        "    return loss_history"
      ]
    },
    {
      "cell_type": "code",
      "execution_count": null,
      "metadata": {
        "id": "pvY3iWJnTIeC"
      },
      "outputs": [],
      "source": [
        "def test(model, x, y):\n",
        "    model.eval()\n",
        "    loss_fn = nn.functional.mse_loss\n",
        "    loss = 0\n",
        "    for i in range(x.shape[0]):\n",
        "        x_i = torch.tensor(x[i], dtype=torch.float32)\n",
        "        y_i = torch.tensor(y[i], dtype=torch.float32)\n",
        "        y_pred = model.forward(x_i)\n",
        "        loss_i = loss_fn(y_pred, y_i)\n",
        "        loss += loss_i.item()\n",
        "    return loss / x.shape[0]"
      ]
    },
    {
      "cell_type": "markdown",
      "metadata": {
        "id": "AW2FNyhXTIeD"
      },
      "source": [
        "# Elman RNN"
      ]
    },
    {
      "cell_type": "code",
      "execution_count": null,
      "metadata": {
        "id": "y8xlK75JTIeD"
      },
      "outputs": [],
      "source": [
        "class ElmanRNN(nn.Module):\n",
        "    def __init__(self, input_size, hidden_size, output_size, number_of_layers):\n",
        "        super().__init__()\n",
        "        self.input_size = input_size\n",
        "        self.hidden_size = hidden_size\n",
        "        self.output_size = output_size\n",
        "        self.number_of_layers = number_of_layers\n",
        "        self.W_hh_list = nn.ParameterList([nn.Parameter(torch.randn(hidden_size, hidden_size)) for _ in range(number_of_layers)])\n",
        "        self.W_ih_list = nn.ParameterList([nn.Parameter(torch.randn(hidden_size, input_size if layer == 0 else hidden_size)) for layer in range(number_of_layers)])\n",
        "        self.W_ho = nn.Parameter(torch.randn(output_size, hidden_size))\n",
        "        self.b_h_list = nn.ParameterList([nn.Parameter(torch.randn(hidden_size)) for _ in range(number_of_layers)])\n",
        "        self.b_o = nn.Parameter(torch.randn(output_size))\n",
        "\n",
        "    def forward(self, x):\n",
        "        h_list = [torch.zeros(self.hidden_size, 1) for _ in range(self.number_of_layers)]\n",
        "        for x_t in x:\n",
        "            curr_in = x_t.float()\n",
        "            curr_in = torch.reshape(curr_in, (x_t.shape[0], 1))\n",
        "            for i in range(self.number_of_layers):\n",
        "                z_t = torch.matmul(self.W_ih_list[i], curr_in) + torch.matmul(self.W_hh_list[i], h_list[i]) + self.b_h_list[i]\n",
        "                h_t = torch.tanh(z_t.float())\n",
        "                curr_in = h_t.float()\n",
        "                h_list[i] = h_t.float()\n",
        "        Y = torch.matmul(self.W_ho, h_list[-1]) + self.b_o\n",
        "        return Y[-1][-1]\n",
        "\n"
      ]
    },
    {
      "cell_type": "code",
      "execution_count": null,
      "metadata": {
        "id": "GArI5YwGTIeE",
        "outputId": "e7de0dc6-28cb-4a74-b4ba-464395d70746"
      },
      "outputs": [
        {
          "name": "stdout",
          "output_type": "stream",
          "text": [
            "Training data shape:  (5000,)\n",
            "Testing data shape:  (1000,)\n",
            "Training labels shape:  (5000,)\n",
            "Testing labels shape:  (1000,)\n"
          ]
        }
      ],
      "source": [
        "number_train_samples = 5000\n",
        "number_test_samples = 1000\n",
        "max_length = 10\n",
        "x_train, y_train = generate_dataset(number_train_samples, max_length)\n",
        "x_test, y_test = generate_dataset(number_test_samples, max_length)\n",
        "input_size = 2\n",
        "hidden_size = 64\n",
        "output_size = 1\n",
        "number_of_layers = 5\n",
        "learning_rate = 0.01\n",
        "number_of_epochs = 20\n",
        "print(\"Training data shape: \", x_train.shape)\n",
        "print(\"Testing data shape: \", x_test.shape)\n",
        "print(\"Training labels shape: \", y_train.shape)\n",
        "print(\"Testing labels shape: \", y_test.shape)"
      ]
    },
    {
      "cell_type": "code",
      "execution_count": null,
      "metadata": {
        "id": "byNmpxBQTIeE",
        "outputId": "8d82cdcf-0264-40b5-db07-99d6a790dd8e"
      },
      "outputs": [
        {
          "name": "stdout",
          "output_type": "stream",
          "text": [
            "********** Training Elman RNN **********\n",
            "Number of layers:  5\n",
            "Hidden size:  64\n",
            "Learning rate:  0.01\n",
            "Number of epochs:  20\n",
            "\n",
            "===========> Epoch: 1, Loss: 2.567641789551101\n",
            "===========> Epoch: 2, Loss: 0.34316394091971836\n",
            "===========> Epoch: 3, Loss: 0.3081727584921511\n",
            "===========> Epoch: 4, Loss: 0.28011502659927046\n",
            "===========> Epoch: 5, Loss: 0.2719634023624034\n",
            "===========> Epoch: 6, Loss: 0.27010077137188926\n",
            "===========> Epoch: 7, Loss: 0.2953250236196818\n",
            "===========> Epoch: 8, Loss: 0.3304742555979091\n",
            "===========> Epoch: 9, Loss: 0.32687217150379055\n",
            "===========> Epoch: 10, Loss: 0.3242091839352649\n",
            "===========> Epoch: 11, Loss: 0.3239839052526706\n",
            "===========> Epoch: 12, Loss: 0.33004131614040677\n",
            "===========> Epoch: 13, Loss: 0.3331202207400504\n",
            "===========> Epoch: 14, Loss: 0.33190063321553154\n",
            "===========> Epoch: 15, Loss: 0.32810402270191924\n",
            "===========> Epoch: 16, Loss: 0.31724266182188837\n",
            "===========> Epoch: 17, Loss: 0.3138987590120007\n",
            "===========> Epoch: 18, Loss: 0.31360583053656393\n",
            "===========> Epoch: 19, Loss: 0.312740182755888\n",
            "===========> Epoch: 20, Loss: 0.31236650661827925\n"
          ]
        }
      ],
      "source": [
        "print(\"********** Training Elman RNN **********\")\n",
        "print(\"Number of layers: \", number_of_layers)\n",
        "print(\"Hidden size: \", hidden_size)\n",
        "print(\"Learning rate: \", learning_rate)\n",
        "print(\"Number of epochs: \", number_of_epochs)\n",
        "print()\n",
        "\n",
        "elman = ElmanRNN(input_size, hidden_size, output_size, number_of_layers)\n",
        "loss_history = train(elman, x_train, y_train, learning_rate, number_of_epochs)"
      ]
    },
    {
      "cell_type": "code",
      "execution_count": null,
      "metadata": {
        "id": "deaY1UP_TIeF",
        "outputId": "990c8f91-c6a0-42f4-9593-88ea52f6a34c"
      },
      "outputs": [
        {
          "name": "stdout",
          "output_type": "stream",
          "text": [
            "\n",
            "\n",
            "********** Plotting **********\n"
          ]
        },
        {
          "data": {
            "image/png": "[encoded data removed]",
            "text/plain": [
              "<Figure size 432x288 with 1 Axes>"
            ]
          },
          "metadata": {
            "needs_background": "light"
          },
          "output_type": "display_data"
        }
      ],
      "source": [
        "print(\"\\n\\n********** Plotting **********\")\n",
        "\n",
        "y_baseline = np.ones((number_train_samples))\n",
        "loss_baseline = np.mean((y_train - y_baseline) ** 2)\n",
        "\n",
        "plt.plot(loss_history, label='Elman RNN')\n",
        "plt.axhline(loss_baseline, label='Baseline', color='red')\n",
        "plt.legend()\n",
        "plt.xlabel('Epochs')\n",
        "plt.ylabel('Training Loss')\n",
        "plt.title('Training Loss vs Epochs')\n",
        "plt.ylim(0, 3.5)\n",
        "plt.savefig('elman.png')\n",
        "plt.show()"
      ]
    },
    {
      "cell_type": "code",
      "execution_count": null,
      "metadata": {
        "id": "0yjjfo_YTIeF",
        "outputId": "baece97b-1906-4385-8348-90237da8b58b"
      },
      "outputs": [
        {
          "name": "stdout",
          "output_type": "stream",
          "text": [
            "\n",
            "\n",
            "********** Testing Elman RNN **********\n",
            "Testing loss:  0.2610992264534559\n"
          ]
        }
      ],
      "source": [
        "\n",
        "print(\"\\n\\n********** Testing Elman RNN **********\")\n",
        "loss = test(elman, x_test, y_test)\n",
        "print(\"Testing loss: \", loss)"
      ]
    },
    {
      "cell_type": "markdown",
      "metadata": {
        "id": "Bb8ILzhTTIeF"
      },
      "source": [
        "# LSTM"
      ]
    },
    {
      "cell_type": "code",
      "execution_count": null,
      "metadata": {
        "id": "XWQoQk0CTIeG"
      },
      "outputs": [],
      "source": [
        "class LSTM(nn.Module):\n",
        "    def __init__(self, input_size, hidden_size, output_size, number_of_layers):\n",
        "        super().__init__()\n",
        "        self.input_size = input_size\n",
        "        self.hidden_size = hidden_size\n",
        "        self.output_size = output_size\n",
        "        self.number_of_layers = number_of_layers\n",
        "\n",
        "        # forget gate weights\n",
        "        self.W_if_list = nn.ParameterList([nn.Parameter(torch.randn(hidden_size, input_size if layer == 0 else hidden_size)) for layer in range(number_of_layers)])\n",
        "        self.W_hf_list = nn.ParameterList([nn.Parameter(torch.randn(hidden_size, hidden_size)) for _ in range(number_of_layers)])\n",
        "        self.b_f_list = nn.ParameterList([nn.Parameter(torch.randn(hidden_size)) for _ in range(number_of_layers)])\n",
        "\n",
        "        # input gate weights\n",
        "        self.W_ii_list = nn.ParameterList([nn.Parameter(torch.randn(hidden_size, input_size if layer == 0 else hidden_size)) for layer in range(number_of_layers)])\n",
        "        self.W_hi_list = nn.ParameterList([nn.Parameter(torch.randn(hidden_size, hidden_size)) for _ in range(number_of_layers)])\n",
        "        self.b_i_list = nn.ParameterList([nn.Parameter(torch.randn(hidden_size)) for _ in range(number_of_layers)])\n",
        "\n",
        "        # cell weights\n",
        "        self.W_ic_list = nn.ParameterList([nn.Parameter(torch.randn(hidden_size, input_size if layer == 0 else hidden_size)) for layer in range(number_of_layers)])\n",
        "        self.W_hc_list = nn.ParameterList([nn.Parameter(torch.randn(hidden_size, hidden_size)) for _ in range(number_of_layers)])\n",
        "        self.b_c_list = nn.ParameterList([nn.Parameter(torch.randn(hidden_size)) for _ in range(number_of_layers)])\n",
        "\n",
        "        # output gate weights\n",
        "        self.W_io_list = nn.ParameterList([nn.Parameter(torch.randn(hidden_size, input_size if layer == 0 else hidden_size)) for layer in range(number_of_layers)])\n",
        "        self.W_ho_list = nn.ParameterList([nn.Parameter(torch.randn(hidden_size, hidden_size)) for _ in range(number_of_layers)])\n",
        "        self.b_o_list = nn.ParameterList([nn.Parameter(torch.randn(hidden_size)) for _ in range(number_of_layers)])\n",
        "\n",
        "        # output weights\n",
        "        self.W_ho = nn.Parameter(torch.randn(output_size, hidden_size))\n",
        "        self.b_o = nn.Parameter(torch.randn(output_size))\n",
        "\n",
        "    def forward(self, x):\n",
        "        h_list = [torch.zeros(self.hidden_size) for _ in range(self.number_of_layers)]\n",
        "        c_list = [torch.zeros(self.hidden_size) for _ in range(self.number_of_layers)]\n",
        "\n",
        "        for x_t in x:\n",
        "            curr_in = x_t.float()\n",
        "            curr_in = torch.reshape(curr_in, (x_t.shape[0], 1))\n",
        "            for i in range(self.number_of_layers):\n",
        "                ft = torch.sigmoid((torch.matmul(self.W_if_list[i], curr_in) + torch.matmul(self.W_hf_list[i], h_list[i]) + self.b_f_list[i]).float())\n",
        "                it = torch.sigmoid((torch.matmul(self.W_ii_list[i], curr_in) + torch.matmul(self.W_hi_list[i], h_list[i]) + self.b_i_list[i]).float())\n",
        "                c_t = torch.tanh((torch.matmul(self.W_ic_list[i], curr_in) + torch.matmul(self.W_hc_list[i], h_list[i]) + self.b_c_list[i]).float())\n",
        "                ct = ft * c_list[i] + it * c_t\n",
        "                ot = torch.sigmoid((torch.matmul(self.W_io_list[i], curr_in) + torch.matmul(self.W_ho_list[i], h_list[i]) + self.b_o_list[i]).float())\n",
        "                ht = ot * torch.tanh(ct)\n",
        "                curr_in = ht.float()\n",
        "                h_list[i] = ht.float()\n",
        "                c_list[i] = ct.float()\n",
        "\n",
        "        Y = torch.matmul(self.W_ho, h_list[-1]) + self.b_o\n",
        "        return Y[-1][-1]"
      ]
    },
    {
      "cell_type": "code",
      "execution_count": null,
      "metadata": {
        "id": "RFslUKzaTIeG",
        "outputId": "fb3032b2-1b29-48cb-e9e5-57834a729c97"
      },
      "outputs": [
        {
          "name": "stdout",
          "output_type": "stream",
          "text": [
            "Training data shape:  (5000,)\n",
            "Testing data shape:  (1000,)\n",
            "Training labels shape:  (5000,)\n",
            "Testing labels shape:  (1000,)\n"
          ]
        }
      ],
      "source": [
        "number_train_samples = 5000\n",
        "number_test_samples = 1000\n",
        "max_length = 10\n",
        "x_train, y_train = generate_dataset(number_train_samples, max_length)\n",
        "x_test, y_test = generate_dataset(number_test_samples, max_length)\n",
        "input_size = 2\n",
        "hidden_size = 64\n",
        "output_size = 1\n",
        "number_of_layers = 3\n",
        "learning_rate = 0.01\n",
        "number_of_epochs = 10\n",
        "print(\"Training data shape: \", x_train.shape)\n",
        "print(\"Testing data shape: \", x_test.shape)\n",
        "print(\"Training labels shape: \", y_train.shape)\n",
        "print(\"Testing labels shape: \", y_test.shape)"
      ]
    },
    {
      "cell_type": "code",
      "execution_count": null,
      "metadata": {
        "id": "VgRf_Xt4TIeG",
        "outputId": "430e1e64-6e9f-43cd-a491-6e1b428a8301"
      },
      "outputs": [
        {
          "name": "stdout",
          "output_type": "stream",
          "text": [
            "********** Training LSTM **********\n",
            "Number of layers:  3\n",
            "Hidden size:  64\n",
            "Learning rate:  0.01\n",
            "Number of epochs:  10\n",
            "\n",
            "===========> Epoch: 1, Loss: 0.5417761650842629\n",
            "===========> Epoch: 2, Loss: 0.1592443878859489\n",
            "===========> Epoch: 3, Loss: 0.12696704783210083\n",
            "===========> Epoch: 4, Loss: 0.006576443351503124\n",
            "===========> Epoch: 5, Loss: 0.003755466691879724\n",
            "===========> Epoch: 6, Loss: 0.002566231731229894\n",
            "===========> Epoch: 7, Loss: 0.0017956439540128784\n",
            "===========> Epoch: 8, Loss: 0.0018930608458673469\n",
            "===========> Epoch: 9, Loss: 0.0014487908138861969\n",
            "===========> Epoch: 10, Loss: 0.0012931757197268436\n"
          ]
        }
      ],
      "source": [
        "print(\"********** Training LSTM **********\")\n",
        "print(\"Number of layers: \", number_of_layers)\n",
        "print(\"Hidden size: \", hidden_size)\n",
        "print(\"Learning rate: \", learning_rate)\n",
        "print(\"Number of epochs: \", number_of_epochs)\n",
        "print()\n",
        "\n",
        "lstm = LSTM(input_size, hidden_size, output_size, number_of_layers)\n",
        "loss_history = train(lstm, x_train, y_train, learning_rate, number_of_epochs)"
      ]
    },
    {
      "cell_type": "code",
      "execution_count": null,
      "metadata": {
        "id": "4bUH2GAOTIeG",
        "outputId": "7151ed2f-672e-485a-fd04-81065261792e"
      },
      "outputs": [
        {
          "name": "stdout",
          "output_type": "stream",
          "text": [
            "********** Plotting **********\n"
          ]
        },
        {
          "data": {
            "image/png": "[encoded data removed]",
            "text/plain": [
              "<Figure size 432x288 with 1 Axes>"
            ]
          },
          "metadata": {
            "needs_background": "light"
          },
          "output_type": "display_data"
        }
      ],
      "source": [
        "print(\"********** Plotting **********\")\n",
        "\n",
        "y_baseline = np.ones((number_train_samples))\n",
        "loss_baseline = np.mean((y_train - y_baseline) ** 2)\n",
        "\n",
        "plt.plot(loss_history, label=\"LSTM\")\n",
        "plt.axhline(loss_baseline, label='Baseline', color='red')\n",
        "plt.legend()\n",
        "plt.xlabel('Epochs')\n",
        "plt.ylabel('Training Loss')\n",
        "plt.title('Training Loss vs Epochs')\n",
        "plt.savefig('lstm.png')\n",
        "plt.show()"
      ]
    },
    {
      "cell_type": "code",
      "execution_count": null,
      "metadata": {
        "id": "vtSL4wPQTIeH",
        "outputId": "49e2328c-43c1-4435-9fbe-dc1a176e4e02"
      },
      "outputs": [
        {
          "name": "stdout",
          "output_type": "stream",
          "text": [
            "********** Testing LSTM **********\n",
            "Testing loss:  0.0022711730495549886\n"
          ]
        }
      ],
      "source": [
        "print(\"********** Testing LSTM **********\")\n",
        "loss = test(lstm, x_test, y_test)\n",
        "print(\"Testing loss: \", loss)\n"
      ]
    },
    {
      "cell_type": "markdown",
      "metadata": {
        "id": "9F76yMJkTIeH"
      },
      "source": [
        "# GRU"
      ]
    },
    {
      "cell_type": "code",
      "execution_count": null,
      "metadata": {
        "id": "ewgrUJKMTIeH"
      },
      "outputs": [],
      "source": [
        "class GRU(nn.Module):\n",
        "    def __init__(self, input_size, hidden_size, output_size, number_of_layers):\n",
        "        super().__init__()\n",
        "        self.input_size = input_size\n",
        "        self.hidden_size = hidden_size\n",
        "        self.output_size = output_size\n",
        "        self.number_of_layers = number_of_layers\n",
        "\n",
        "        # reset gate weights\n",
        "        self.W_ir_list = nn.ParameterList([nn.Parameter(torch.randn(hidden_size, input_size if layer == 0 else hidden_size)) for layer in range(number_of_layers)])\n",
        "        self.W_hr_list = nn.ParameterList([nn.Parameter(torch.randn(hidden_size, hidden_size)) for _ in range(number_of_layers)])\n",
        "        self.b_r_list = nn.ParameterList([nn.Parameter(torch.randn(hidden_size)) for _ in range(number_of_layers)])\n",
        "\n",
        "        # update gate weights\n",
        "        self.W_iz_list = nn.ParameterList([nn.Parameter(torch.randn(hidden_size, input_size if layer == 0 else hidden_size)) for layer in range(number_of_layers)])\n",
        "        self.W_hz_list = nn.ParameterList([nn.Parameter(torch.randn(hidden_size, hidden_size)) for _ in range(number_of_layers)])\n",
        "        self.b_z_list = nn.ParameterList([nn.Parameter(torch.randn(hidden_size)) for _ in range(number_of_layers)])\n",
        "\n",
        "        #\n",
        "        self.W_ih_list = nn.ParameterList([nn.Parameter(torch.randn(hidden_size, input_size if layer == 0 else hidden_size)) for layer in range(number_of_layers)])\n",
        "        self.W_hh_list = nn.ParameterList([nn.Parameter(torch.randn(hidden_size, hidden_size)) for _ in range(number_of_layers)])\n",
        "        self.b_h_list = nn.ParameterList([nn.Parameter(torch.randn(hidden_size)) for _ in range(number_of_layers)])\n",
        "\n",
        "        # output weights\n",
        "        self.W_ho = nn.Parameter(torch.randn(output_size, hidden_size))\n",
        "        self.b_o = nn.Parameter(torch.randn(output_size))\n",
        "\n",
        "    def forward(self, x):\n",
        "        h_list = [torch.zeros(self.hidden_size) for _ in range(self.number_of_layers)]\n",
        "\n",
        "        for x_t in x:\n",
        "            curr_in = x_t.float()\n",
        "            curr_in = torch.reshape(curr_in, (x_t.shape[0], 1))\n",
        "            for i in range(self.number_of_layers):\n",
        "                rt = torch.sigmoid((torch.matmul(self.W_ir_list[i], curr_in) + torch.matmul(self.W_hr_list[i], h_list[i]) + self.b_r_list[i]).float())\n",
        "                zt = torch.sigmoid((torch.matmul(self.W_iz_list[i], curr_in) + torch.matmul(self.W_hz_list[i], h_list[i]) + self.b_z_list[i]).float())\n",
        "                h_t = torch.tanh((torch.matmul(self.W_ih_list[i], curr_in) + torch.matmul(self.W_hh_list[i], rt * h_list[i]) + self.b_h_list[i]).float())\n",
        "                ht = ((1 - zt) * h_list[i]) + (zt * h_t)\n",
        "                curr_in = ht.float()\n",
        "                h_list[i] = ht.float()\n",
        "\n",
        "        Y = torch.matmul(self.W_ho, h_list[-1]) + self.b_o\n",
        "        return Y[-1][-1]"
      ]
    },
    {
      "cell_type": "code",
      "execution_count": null,
      "metadata": {
        "id": "Vm-lW6iKTIeI",
        "outputId": "fdd7d63e-be7a-4cac-9207-cb16a9d7cd6f"
      },
      "outputs": [
        {
          "name": "stdout",
          "output_type": "stream",
          "text": [
            "Training data shape:  (5000,)\n",
            "Testing data shape:  (1000,)\n",
            "Training labels shape:  (5000,)\n",
            "Testing labels shape:  (1000,)\n"
          ]
        }
      ],
      "source": [
        "number_train_samples = 5000\n",
        "number_test_samples = 1000\n",
        "max_length = 10\n",
        "x_train, y_train = generate_dataset(number_train_samples, max_length)\n",
        "x_test, y_test = generate_dataset(number_test_samples, max_length)\n",
        "input_size = 2\n",
        "hidden_size = 64\n",
        "output_size = 1\n",
        "number_of_layers = 3\n",
        "learning_rate = 0.01\n",
        "number_of_epochs = 10\n",
        "print(\"Training data shape: \", x_train.shape)\n",
        "print(\"Testing data shape: \", x_test.shape)\n",
        "print(\"Training labels shape: \", y_train.shape)\n",
        "print(\"Testing labels shape: \", y_test.shape)"
      ]
    },
    {
      "cell_type": "code",
      "execution_count": null,
      "metadata": {
        "id": "QztBofnlTIeI",
        "outputId": "55fac67d-0d1a-4f94-fce4-028bb404a00c"
      },
      "outputs": [
        {
          "name": "stdout",
          "output_type": "stream",
          "text": [
            "********** Training GRU **********\n",
            "Number of layers:  3\n",
            "Hidden size:  64\n",
            "Learning rate:  0.01\n",
            "Number of epochs:  10\n",
            "\n",
            "===========> Epoch: 1, Loss: 4.223626085434666\n",
            "===========> Epoch: 2, Loss: 0.24671673293772434\n",
            "===========> Epoch: 3, Loss: 0.20928001168797933\n",
            "===========> Epoch: 4, Loss: 0.17757704867806473\n",
            "===========> Epoch: 5, Loss: 0.17589017528149847\n",
            "===========> Epoch: 6, Loss: 0.16794419248240383\n",
            "===========> Epoch: 7, Loss: 0.16348396835239762\n",
            "===========> Epoch: 8, Loss: 0.1579013785414307\n",
            "===========> Epoch: 9, Loss: 0.15871283158047012\n",
            "===========> Epoch: 10, Loss: 0.15409778386181194\n"
          ]
        }
      ],
      "source": [
        "print(\"********** Training GRU **********\")\n",
        "print(\"Number of layers: \", number_of_layers)\n",
        "print(\"Hidden size: \", hidden_size)\n",
        "print(\"Learning rate: \", learning_rate)\n",
        "print(\"Number of epochs: \", number_of_epochs)\n",
        "print()\n",
        "\n",
        "gru = GRU(input_size, hidden_size, output_size, number_of_layers)\n",
        "loss_history = train(gru, x_train, y_train, learning_rate, number_of_epochs)"
      ]
    },
    {
      "cell_type": "code",
      "execution_count": null,
      "metadata": {
        "id": "lcR9ldmhTIeI",
        "outputId": "8998c3c2-b5d7-4e6a-cfc5-6927739d37a3"
      },
      "outputs": [
        {
          "name": "stdout",
          "output_type": "stream",
          "text": [
            "********** Plotting **********\n"
          ]
        },
        {
          "data": {
            "image/png": "[encoded data removed]",
            "text/plain": [
              "<Figure size 432x288 with 1 Axes>"
            ]
          },
          "metadata": {
            "needs_background": "light"
          },
          "output_type": "display_data"
        }
      ],
      "source": [
        "print(\"********** Plotting **********\")\n",
        "\n",
        "y_baseline = np.ones((number_train_samples))\n",
        "loss_baseline = np.mean((y_train - y_baseline) ** 2)\n",
        "\n",
        "plt.plot(loss_history, label=\"GRU\")\n",
        "plt.axhline(loss_baseline, label='Baseline', color='red')\n",
        "plt.legend()\n",
        "plt.xlabel('Epochs')\n",
        "plt.ylabel('Training Loss')\n",
        "plt.title('Training Loss vs Epochs')\n",
        "plt.savefig('gru.png')\n",
        "plt.show()"
      ]
    },
    {
      "cell_type": "code",
      "execution_count": null,
      "metadata": {
        "id": "9d9xl3QBTIeI",
        "outputId": "52356ac4-6b4c-4001-b75a-47c9270acba2"
      },
      "outputs": [
        {
          "name": "stdout",
          "output_type": "stream",
          "text": [
            "********** Testing GRU **********\n",
            "Testing loss:  0.14391279602730095\n"
          ]
        }
      ],
      "source": [
        "print(\"********** Testing GRU **********\")\n",
        "loss = test(gru, x_test, y_test)\n",
        "print(\"Testing loss: \", loss)\n"
      ]
    }
  ],
  "metadata": {
    "kernelspec": {
      "display_name": "Python 3",
      "language": "python",
      "name": "python3"
    },
    "language_info": {
      "codemirror_mode": {
        "name": "ipython",
        "version": 3
      },
      "file_extension": ".py",
      "mimetype": "text/x-python",
      "name": "python",
      "nbconvert_exporter": "python",
      "pygments_lexer": "ipython3",
      "version": "3.8.10"
    },
    "orig_nbformat": 4,
    "colab": {
      "provenance": []
    }
  },
  "nbformat": 4,
  "nbformat_minor": 0
}