{
  "nbformat": 4,
  "nbformat_minor": 0,
  "metadata": {
    "colab": {
      "provenance": []
    },
    "kernelspec": {
      "name": "python3",
      "display_name": "Python 3"
    },
    "language_info": {
      "name": "python"
    }
  },
  "cells": [
    {
      "cell_type": "code",
      "execution_count": null,
      "metadata": {
        "colab": {
          "base_uri": "https://localhost:8080/"
        },
        "id": "F0thCUv5ZVLt",
        "outputId": "1c4faf1b-8a7e-48d7-b841-d2d28a300bf9"
      },
      "outputs": [
        {
          "output_type": "execute_result",
          "data": {
            "text/plain": [
              "<torch._C.Generator at 0x7fb801c5b370>"
            ]
          },
          "metadata": {},
          "execution_count": 12
        }
      ],
      "source": [
        "import torch\n",
        "from torchvision import datasets # for built-in datasets\n",
        "from torchvision import transforms # for pre-processing like normalization\n",
        "torch.manual_seed(2) # reproducibility"
      ]
    },
    {
      "cell_type": "code",
      "source": [
        "train_dataset = datasets.MNIST(root='data/',\n",
        "                              train=True,\n",
        "                              transform=transforms.Compose([\n",
        "                                  transforms.ToTensor(),\n",
        "                                  transforms.Normalize((0.1307,), (0.3081,))\n",
        "                              ]),\n",
        "                              download=True)\n",
        "\n",
        "test_dataset = datasets.MNIST(root='data/',\n",
        "                             train=False,\n",
        "                             transform=transforms.Compose([\n",
        "                                  transforms.ToTensor(),\n",
        "                                  transforms.Normalize((0.1307,), (0.3081,))\n",
        "                              ]))"
      ],
      "metadata": {
        "id": "8P1Cgqb-hVqA"
      },
      "execution_count": null,
      "outputs": []
    },
    {
      "cell_type": "code",
      "source": [
        "batch_size = 10\n",
        "train_loader = torch.utils.data.DataLoader(train_dataset, batch_size=batch_size, shuffle=True)\n",
        "test_loader = torch.utils.data.DataLoader(test_dataset, batch_size=batch_size, shuffle=True)\n"
      ],
      "metadata": {
        "id": "prR9qEgWiWta"
      },
      "execution_count": null,
      "outputs": []
    },
    {
      "cell_type": "code",
      "source": [
        "lst = list(train_loader)\n",
        "print(lst[0][0].shape, lst[0][1].shape)"
      ],
      "metadata": {
        "colab": {
          "base_uri": "https://localhost:8080/"
        },
        "id": "jVF8_MQukwIY",
        "outputId": "10f99991-c0a6-4ac5-fa5b-03f63814c5b5"
      },
      "execution_count": null,
      "outputs": [
        {
          "output_type": "stream",
          "name": "stdout",
          "text": [
            "torch.Size([10, 1, 28, 28]) torch.Size([10])\n"
          ]
        }
      ]
    },
    {
      "cell_type": "code",
      "source": [
        "input_size = 28*28\n",
        "hidden_size = [512, 32]\n",
        "output_size = 10"
      ],
      "metadata": {
        "id": "scLTA526lGdj"
      },
      "execution_count": null,
      "outputs": []
    },
    {
      "cell_type": "code",
      "source": [
        "from torch import nn\n",
        "from torch.optim import SGD"
      ],
      "metadata": {
        "id": "FDvoFo5FlZJX"
      },
      "execution_count": null,
      "outputs": []
    },
    {
      "cell_type": "code",
      "source": [
        "model = nn.Sequential(\n",
        "    nn.Linear(input_size, hidden_size[0]),\n",
        "    nn.ReLU(),\n",
        "    nn.Linear(hidden_size[0], hidden_size[1]),\n",
        "    nn.ReLU(),\n",
        "    nn.Linear(hidden_size[1], output_size)\n",
        ")"
      ],
      "metadata": {
        "id": "s2vKRG27liX0"
      },
      "execution_count": null,
      "outputs": []
    },
    {
      "cell_type": "code",
      "source": [
        "criterion = nn.CrossEntropyLoss()\n",
        "optimizer = SGD(model.parameters(), lr=0.001)"
      ],
      "metadata": {
        "id": "BeUDvJXel0-f"
      },
      "execution_count": null,
      "outputs": []
    },
    {
      "cell_type": "code",
      "source": [
        "epochs = 20\n",
        "\n",
        "loss_vs_epochs = []\n",
        "for e in range(epochs):\n",
        "  epoch_loss = 0\n",
        "  print(\"New Epoch\")\n",
        "  for images, labels in train_loader:\n",
        "    images = images.view(images.shape[0], -1)\n",
        "\n",
        "    optimizer.zero_grad()\n",
        "    output = model(images)\n",
        "    loss = criterion(output, labels)\n",
        "    loss.backward()\n",
        "    optimizer.step()\n",
        "\n",
        "    epoch_loss += loss.item()\n",
        "  print(\"Epoch:{}, Loss:{}\".format(e, epoch_loss))\n",
        "  loss_vs_epochs.append(epoch_loss)"
      ],
      "metadata": {
        "colab": {
          "base_uri": "https://localhost:8080/"
        },
        "id": "aO2Y2WSWmNkx",
        "outputId": "93d28185-d724-45cd-e447-6a49d7605046"
      },
      "execution_count": null,
      "outputs": [
        {
          "output_type": "stream",
          "name": "stdout",
          "text": [
            "New Epoch\n",
            "Epoch:0, Loss:5775.554907806218\n",
            "New Epoch\n",
            "Epoch:1, Loss:2080.660278555937\n",
            "New Epoch\n",
            "Epoch:2, Loss:1703.892443511635\n",
            "New Epoch\n",
            "Epoch:3, Loss:1489.5545885292813\n",
            "New Epoch\n",
            "Epoch:4, Loss:1328.5037438338622\n",
            "New Epoch\n",
            "Epoch:5, Loss:1196.2094351113774\n",
            "New Epoch\n",
            "Epoch:6, Loss:1083.1645349978935\n",
            "New Epoch\n",
            "Epoch:7, Loss:986.0626399617177\n",
            "New Epoch\n",
            "Epoch:8, Loss:904.4690849343315\n",
            "New Epoch\n",
            "Epoch:9, Loss:833.3506997856312\n",
            "New Epoch\n",
            "Epoch:10, Loss:768.8178921436192\n",
            "New Epoch\n",
            "Epoch:11, Loss:714.4799660415156\n",
            "New Epoch\n",
            "Epoch:12, Loss:664.0559710080852\n",
            "New Epoch\n",
            "Epoch:13, Loss:620.2765810349956\n",
            "New Epoch\n",
            "Epoch:14, Loss:581.8345049371128\n",
            "New Epoch\n",
            "Epoch:15, Loss:545.2626039685565\n",
            "New Epoch\n",
            "Epoch:16, Loss:513.1334909127036\n",
            "New Epoch\n",
            "Epoch:17, Loss:483.16279223165475\n",
            "New Epoch\n",
            "Epoch:18, Loss:454.21095429209527\n",
            "New Epoch\n",
            "Epoch:19, Loss:428.76561909436714\n"
          ]
        }
      ]
    },
    {
      "cell_type": "code",
      "source": [
        "import matplotlib.pyplot as plt\n",
        "\n",
        "plt.clf()\n",
        "plt.plot(loss_vs_epochs)\n",
        "plt.xlabel(\"Epochs\")\n",
        "plt.ylabel(\"Training loss\")\n",
        "plt.title(\"Training loss over epochs\")\n",
        "epoch_label = [i for i in range(epochs)]\n",
        "plt.xticks(epoch_label, epoch_label)\n",
        "plt.show()"
      ],
      "metadata": {
        "colab": {
          "base_uri": "https://localhost:8080/",
          "height": 295
        },
        "id": "MsbcpcRKrFLf",
        "outputId": "191ff7e2-c704-46d2-c99a-7deb5b0f994f"
      },
      "execution_count": null,
      "outputs": [
        {
          "output_type": "display_data",
          "data": {
            "text/plain": [
              "<Figure size 432x288 with 1 Axes>"
            ],
            "image/png": "[encoded data removed]"
          },
          "metadata": {
            "needs_background": "light"
          }
        }
      ]
    },
    {
      "cell_type": "code",
      "source": [
        "num_correct = 0\n",
        "with torch.no_grad():\n",
        "  for images, labels in test_dataset:\n",
        "    images = images.view(images.shape[0], -1)\n",
        "    output = model(images)\n",
        "    _, predicted = torch.max(output, 1)\n",
        "    num_correct += torch.sum(predicted == labels)\n",
        "\n",
        "print(\"Accuracy = {}\". format(100 * num_correct / float(len(test_loader.dataset))))"
      ],
      "metadata": {
        "colab": {
          "base_uri": "https://localhost:8080/"
        },
        "id": "FVZoo-GTsr4E",
        "outputId": "1faed576-542c-41f3-ea57-f4adc49be68e"
      },
      "execution_count": null,
      "outputs": [
        {
          "output_type": "stream",
          "name": "stdout",
          "text": [
            "Accuracy = 97.26000213623047\n"
          ]
        }
      ]
    }
  ]
}