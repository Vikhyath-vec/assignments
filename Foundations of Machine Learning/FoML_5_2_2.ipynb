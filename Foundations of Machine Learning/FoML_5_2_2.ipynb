{
  "nbformat": 4,
  "nbformat_minor": 0,
  "metadata": {
    "colab": {
      "provenance": []
    },
    "kernelspec": {
      "name": "python3",
      "display_name": "Python 3"
    },
    "language_info": {
      "name": "python"
    }
  },
  "cells": [
    {
      "cell_type": "code",
      "execution_count": null,
      "metadata": {
        "id": "Wjf9xZ3ouJTG"
      },
      "outputs": [],
      "source": [
        "# !unzip DrivFace.zip"
      ]
    },
    {
      "cell_type": "code",
      "source": [
        "import numpy as np\n",
        "import scipy.io\n",
        "import pandas as pd\n",
        "import random\n",
        "from sklearn.preprocessing import StandardScaler, normalize\n",
        "random.seed(0)"
      ],
      "metadata": {
        "id": "alJzXimHvHk3"
      },
      "execution_count": null,
      "outputs": []
    },
    {
      "cell_type": "code",
      "source": [
        "img_data = scipy.io.loadmat('DrivFace/DrivFace.mat')\n",
        "drivFaceData = img_data['drivFaceD'][0]"
      ],
      "metadata": {
        "id": "FV9oZbD9vKH8"
      },
      "execution_count": null,
      "outputs": []
    },
    {
      "cell_type": "code",
      "source": [
        "X_raw = img_data['drivFaceD'][0][0][0]\n",
        "print(X_raw.shape)"
      ],
      "metadata": {
        "colab": {
          "base_uri": "https://localhost:8080/"
        },
        "id": "cd8d6h48vbgV",
        "outputId": "773485a2-9bd1-4cbf-a3fe-9fbea83d4403"
      },
      "execution_count": null,
      "outputs": [
        {
          "output_type": "stream",
          "name": "stdout",
          "text": [
            "(606, 6400)\n"
          ]
        }
      ]
    },
    {
      "cell_type": "code",
      "source": [
        "label_data = pd.read_csv(\"DrivFace/drivPoints.txt\")"
      ],
      "metadata": {
        "id": "t2megpalvdvy"
      },
      "execution_count": null,
      "outputs": []
    },
    {
      "cell_type": "code",
      "source": [
        "X = X_raw\n",
        "Y = label_data['xF']"
      ],
      "metadata": {
        "id": "qtDrrnU7vh2s"
      },
      "execution_count": null,
      "outputs": []
    },
    {
      "cell_type": "code",
      "source": [
        "scaler = StandardScaler()\n",
        "X = scaler.fit_transform(X, Y)"
      ],
      "metadata": {
        "id": "8TDmantXwEO2"
      },
      "execution_count": null,
      "outputs": []
    },
    {
      "cell_type": "code",
      "source": [
        "X = normalize(X)"
      ],
      "metadata": {
        "id": "uRK0Up0vwEnQ"
      },
      "execution_count": null,
      "outputs": []
    },
    {
      "cell_type": "code",
      "source": [
        "id_list = list(range(len(X)))\n",
        "random.shuffle(id_list)\n",
        "id_train = id_list[0:303]\n",
        "print(len(id_train))\n",
        "id_test = id_list[303:]\n",
        "print(len(id_test))"
      ],
      "metadata": {
        "colab": {
          "base_uri": "https://localhost:8080/"
        },
        "id": "Bv8XtFjrvzuM",
        "outputId": "8a81424a-8cc8-42d3-d082-b5991d290118"
      },
      "execution_count": null,
      "outputs": [
        {
          "output_type": "stream",
          "name": "stdout",
          "text": [
            "303\n",
            "303\n"
          ]
        }
      ]
    },
    {
      "cell_type": "code",
      "source": [
        "X_train = X[id_train]\n",
        "print(X_train.shape)\n",
        "Y_train = Y[id_train]\n",
        "print(Y_train.shape)"
      ],
      "metadata": {
        "colab": {
          "base_uri": "https://localhost:8080/"
        },
        "id": "ONfhzNcHv09E",
        "outputId": "196fa78a-1e60-41fa-c697-74a3746e6a51"
      },
      "execution_count": null,
      "outputs": [
        {
          "output_type": "stream",
          "name": "stdout",
          "text": [
            "(303, 6400)\n",
            "(303,)\n"
          ]
        }
      ]
    },
    {
      "cell_type": "code",
      "source": [
        "X_test = X[id_test]\n",
        "print(X_test.shape)\n",
        "Y_test = Y[id_test]\n",
        "print(Y_test.shape)"
      ],
      "metadata": {
        "colab": {
          "base_uri": "https://localhost:8080/"
        },
        "id": "rStNXgj9v2KE",
        "outputId": "f9ccb594-76d2-4e37-9467-f82e37f3a55f"
      },
      "execution_count": null,
      "outputs": [
        {
          "output_type": "stream",
          "name": "stdout",
          "text": [
            "(303, 6400)\n",
            "(303,)\n"
          ]
        }
      ]
    },
    {
      "cell_type": "code",
      "source": [
        "from sklearn.metrics import explained_variance_score\n",
        "from sklearn.model_selection import RepeatedKFold\n",
        "from sklearn.model_selection import cross_val_score"
      ],
      "metadata": {
        "id": "Laqh9EtFv4fw"
      },
      "execution_count": null,
      "outputs": []
    },
    {
      "cell_type": "code",
      "source": [
        "from sklearn import linear_model\n",
        "reg = linear_model.Ridge(alpha=0.1)\n",
        "cv = RepeatedKFold(n_splits=3, n_repeats=5, random_state=1)\n",
        "scores = cross_val_score(reg, X_train, Y_train, cv=cv)\n",
        "print(scores.mean())\n",
        "print(scores.std())"
      ],
      "metadata": {
        "colab": {
          "base_uri": "https://localhost:8080/"
        },
        "id": "rtw3qV3ov4wS",
        "outputId": "05b2b371-bf51-4a80-b19f-b951892bef04"
      },
      "execution_count": null,
      "outputs": [
        {
          "output_type": "stream",
          "name": "stdout",
          "text": [
            "0.46316732676170835\n",
            "0.07413400844599283\n"
          ]
        }
      ]
    },
    {
      "cell_type": "code",
      "source": [
        "reg.fit(X_train, Y_train.ravel())\n",
        "Y_pred = reg.predict(X_test)\n",
        "print(explained_variance_score(Y_test, Y_pred))"
      ],
      "metadata": {
        "colab": {
          "base_uri": "https://localhost:8080/"
        },
        "id": "biTtw9C-x_fS",
        "outputId": "a65f3b16-13ad-4251-e9ce-c32168b4aeda"
      },
      "execution_count": null,
      "outputs": [
        {
          "output_type": "stream",
          "name": "stdout",
          "text": [
            "0.5285780412078676\n"
          ]
        }
      ]
    },
    {
      "cell_type": "code",
      "source": [
        "from sklearn.svm import LinearSVR\n",
        "\n",
        "svr = LinearSVR(C=100)\n",
        "cv = RepeatedKFold(n_splits=3, n_repeats=5, random_state=1)\n",
        "scores = cross_val_score(svr, X_train, Y_train, cv=cv)\n",
        "print(scores.mean())\n",
        "print(scores.std())"
      ],
      "metadata": {
        "colab": {
          "base_uri": "https://localhost:8080/"
        },
        "id": "RhLAXHvZy1i2",
        "outputId": "cbbe658e-d986-46d1-fc4b-2f02c1bffe5e"
      },
      "execution_count": null,
      "outputs": [
        {
          "output_type": "stream",
          "name": "stdout",
          "text": [
            "0.4438394338340737\n",
            "0.06648073692547542\n"
          ]
        }
      ]
    },
    {
      "cell_type": "code",
      "source": [
        "svr.fit(X_train, Y_train)\n",
        "Y_pred = svr.predict(X_test)\n",
        "print(explained_variance_score(Y_test, Y_pred))"
      ],
      "metadata": {
        "colab": {
          "base_uri": "https://localhost:8080/"
        },
        "id": "Hm1R8fs7zbqY",
        "outputId": "960b5d2e-d789-461a-c086-ca34b0a02cad"
      },
      "execution_count": null,
      "outputs": [
        {
          "output_type": "stream",
          "name": "stdout",
          "text": [
            "0.5365132806483514\n"
          ]
        }
      ]
    }
  ]
}