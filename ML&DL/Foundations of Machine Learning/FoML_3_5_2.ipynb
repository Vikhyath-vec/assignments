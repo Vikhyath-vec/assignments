{
  "nbformat": 4,
  "nbformat_minor": 0,
  "metadata": {
    "colab": {
      "provenance": []
    },
    "kernelspec": {
      "name": "python3",
      "display_name": "Python 3"
    },
    "language_info": {
      "name": "python"
    }
  },
  "cells": [
    {
      "cell_type": "code",
      "execution_count": null,
      "metadata": {
        "id": "c9DQZtyd5pAv"
      },
      "outputs": [],
      "source": [
        "# !unzip PARKINSON_HW.zip"
      ]
    },
    {
      "cell_type": "code",
      "source": [
        "import numpy as np\n",
        "import pandas as pd\n",
        "import random\n",
        "import os\n",
        "import matplotlib.pyplot as plt\n",
        "\n",
        "random.seed(1)"
      ],
      "metadata": {
        "id": "zqx9APZk6MOU"
      },
      "execution_count": null,
      "outputs": []
    },
    {
      "cell_type": "code",
      "source": [
        "# data = pd.read_csv(\"new_dataset/parkinson/H_P000-0001.txt\", sep=';', header=0, names=['a', 'b', 'c', 'Pressure', 'GripAngle', 'd', 'Test ID'])\n",
        "dfs = []\n",
        "\n",
        "directory = \"new_dataset/parkinson\"\n",
        "for filename in os.listdir(directory):\n",
        "  f = os.path.join(directory, filename)\n",
        "  if os.path.isfile(f):\n",
        "    d = pd.read_csv(f, sep=';', header=0, names=['a', 'b', 'c', 'Pressure', 'GripAngle', 'd', 'Test ID'])\n",
        "    dfs.append(d)\n",
        "\n",
        "directory = \"hw_dataset/parkinson\"\n",
        "for filename in os.listdir(directory):\n",
        "  f = os.path.join(directory, filename)\n",
        "  if os.path.isfile(f):\n",
        "    d = pd.read_csv(f, sep=';', header=0, names=['a', 'b', 'c', 'Pressure', 'GripAngle', 'd', 'Test ID'])\n",
        "    dfs.append(d)\n",
        "\n",
        "directory = \"hw_dataset/control\"\n",
        "for filename in os.listdir(directory):\n",
        "  f = os.path.join(directory, filename)\n",
        "  if os.path.isfile(f):\n",
        "    d = pd.read_csv(f, sep=';', header=0, names=['a', 'b', 'c', 'Pressure', 'GripAngle', 'd', 'Test ID'])\n",
        "    dfs.append(d)\n",
        "\n",
        "result = pd.concat(dfs)\n",
        "print(result)\n",
        "\n",
        "\n"
      ],
      "metadata": {
        "colab": {
          "base_uri": "https://localhost:8080/"
        },
        "id": "PYIRtS2t7SAb",
        "outputId": "46aafc15-cdb9-42e5-a365-6a3dc65a0177"
      },
      "execution_count": null,
      "outputs": [
        {
          "output_type": "stream",
          "name": "stdout",
          "text": [
            "        a    b   c  Pressure  GripAngle           d  Test ID\n",
            "0     373  195   0        38       1480     6324971        0\n",
            "1     373  195   0        71       1470     6324978        0\n",
            "2     373  194   0       106       1470     6324985        0\n",
            "3     373  194   0       136       1480     6324992        0\n",
            "4     372  194   0       156       1490     6324999        0\n",
            "...   ...  ...  ..       ...        ...         ...      ...\n",
            "5071  398  201   0       797        900  1732740739        1\n",
            "5072  398  201  12       661        870  1732740746        1\n",
            "5073  398  201  24       418        900  1732740753        1\n",
            "5074  398  201  36       235        870  1732740760        1\n",
            "5075  398  202  68        24        820  1732740767        1\n",
            "\n",
            "[524666 rows x 7 columns]\n"
          ]
        }
      ]
    },
    {
      "cell_type": "code",
      "source": [
        "X = result.iloc[:, 3:5].to_numpy()\n",
        "Y = result.iloc[:, 6].to_numpy()"
      ],
      "metadata": {
        "id": "dRVdue6xBmaD"
      },
      "execution_count": null,
      "outputs": []
    },
    {
      "cell_type": "code",
      "source": [
        "from sklearn.preprocessing import StandardScaler, MinMaxScaler\n",
        "\n",
        "scaler = MinMaxScaler()\n",
        "scaler.fit(X)\n",
        "X_norm = scaler.fit_transform(X)\n",
        "print(X_norm)"
      ],
      "metadata": {
        "colab": {
          "base_uri": "https://localhost:8080/"
        },
        "id": "S7Bcu61PCKJb",
        "outputId": "ccfad7ab-9c89-458e-a293-d547909c98b3"
      },
      "execution_count": null,
      "outputs": [
        {
          "output_type": "stream",
          "name": "stdout",
          "text": [
            "[[0.03714565 0.41340782]\n",
            " [0.06940371 0.41061453]\n",
            " [0.10361681 0.41061453]\n",
            " ...\n",
            " [0.40860215 0.25139665]\n",
            " [0.22971652 0.24301676]\n",
            " [0.02346041 0.22905028]]\n"
          ]
        }
      ]
    },
    {
      "cell_type": "code",
      "source": [
        "zeros_list = [i for i in range(len(Y)) if Y[i] == 0]\n",
        "ones_list = [i for i in range(len(Y)) if Y[i] == 1]\n",
        "twos_list = [i for i in range(len(Y)) if Y[i] == 2]\n",
        "\n",
        "random.shuffle(zeros_list)\n",
        "random.shuffle(ones_list)\n",
        "random.shuffle(twos_list)\n",
        "\n",
        "zeros_graph = zeros_list[:30]\n",
        "ones_graph = ones_list[:30]\n",
        "twos_graph = twos_list[:30]\n",
        "\n",
        "ids_graph = zeros_graph + ones_graph + twos_graph"
      ],
      "metadata": {
        "id": "t740oyXZZ8IQ"
      },
      "execution_count": null,
      "outputs": []
    },
    {
      "cell_type": "code",
      "source": [
        "from sklearn.naive_bayes import GaussianNB\n",
        "gnb = GaussianNB()\n",
        "gnb.fit(X_norm, Y)"
      ],
      "metadata": {
        "colab": {
          "base_uri": "https://localhost:8080/"
        },
        "id": "6vLdPAa7YrQS",
        "outputId": "0222aade-a125-498f-887e-42b33f5289cf"
      },
      "execution_count": null,
      "outputs": [
        {
          "output_type": "execute_result",
          "data": {
            "text/plain": [
              "GaussianNB()"
            ]
          },
          "metadata": {},
          "execution_count": 40
        }
      ]
    },
    {
      "cell_type": "code",
      "source": [],
      "metadata": {
        "id": "hbaGWv-ngWae"
      },
      "execution_count": null,
      "outputs": []
    },
    {
      "cell_type": "code",
      "source": [
        "def plot_points(x, y):\n",
        "    c = \"bgr\"\n",
        "    m = \"xos\"\n",
        "    for i, point in enumerate(x):\n",
        "      plt.plot(point[0], point[1], c[y[i]] + m[y[i]])\n",
        "\n"
      ],
      "metadata": {
        "id": "jooAADSCGCu7"
      },
      "execution_count": null,
      "outputs": []
    },
    {
      "cell_type": "code",
      "source": [
        "plt.figure()\n",
        "plot_points(X_norm[ids_graph], gnb.predict(X_norm[ids_graph]))\n",
        "plot_contours(xx, yy, x_range, y_range, u, sigma)\n",
        "plt.axis(\"square\")\n",
        "plt.tight_layout()\n",
        "plt.show()"
      ],
      "metadata": {
        "colab": {
          "base_uri": "https://localhost:8080/",
          "height": 297
        },
        "id": "sFUgGX1tgTbH",
        "outputId": "ae561d60-534d-4dda-fee0-1fb194365b20"
      },
      "execution_count": null,
      "outputs": [
        {
          "output_type": "display_data",
          "data": {
            "text/plain": [
              "<Figure size 432x288 with 1 Axes>"
            ],
            "image/png": "[encoded data removed]"
          },
          "metadata": {
            "needs_background": "light"
          }
        }
      ]
    }
  ]
}