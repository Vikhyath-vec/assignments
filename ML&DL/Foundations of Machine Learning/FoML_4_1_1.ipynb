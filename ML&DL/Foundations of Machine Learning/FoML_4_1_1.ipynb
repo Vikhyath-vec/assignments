{
  "nbformat": 4,
  "nbformat_minor": 0,
  "metadata": {
    "colab": {
      "provenance": []
    },
    "kernelspec": {
      "name": "python3",
      "display_name": "Python 3"
    },
    "language_info": {
      "name": "python"
    }
  },
  "cells": [
    {
      "cell_type": "code",
      "execution_count": null,
      "metadata": {
        "colab": {
          "base_uri": "https://localhost:8080/"
        },
        "id": "wKdc_IcPm-68",
        "outputId": "281e7b2c-d6c1-4c0d-f3ca-6d59b333d18f"
      },
      "outputs": [
        {
          "output_type": "stream",
          "name": "stdout",
          "text": [
            "['age', 'bp', 'bgr', 'bu', 'sc', 'sod', 'pot', 'hemo', 'pcv', 'wc', 'rc', 'pe_no', 'pe_yes', 'dm_no', 'dm_yes', 'appet_good', 'appet_poor', 'pcc_notpresent', 'pcc_present', 'al_0.0', 'al_1.0', 'al_2.0', 'al_3.0', 'al_4.0', 'al_5.0', 'sg_1.005', 'sg_1.01', 'sg_1.015', 'sg_1.02', 'sg_1.025', 'ane_no', 'ane_yes', 'cad_no', 'cad_yes', 'pc_abnormal', 'pc_normal', 'ba_notpresent', 'ba_present', 'rbc_abnormal', 'rbc_normal', 'htn_no', 'htn_yes', 'su_0.0', 'su_1.0', 'su_2.0', 'su_3.0', 'su_4.0', 'su_5.0']\n",
            "[11, 12, 13, 14, 15, 16, 17, 18, 19, 20, 21, 22, 23, 24, 25, 26, 27, 28, 29, 30, 31, 32, 33, 34, 35, 36, 37, 38, 39, 40, 41, 42, 43, 44, 45, 46, 47]\n"
          ]
        }
      ],
      "source": [
        "import pandas as pd\n",
        "import numpy as np\n",
        "import random\n",
        "import operator, math\n",
        "\n",
        "# random.seed(2)\n",
        "\n",
        "# Loading the data and dropping the index axis\n",
        "df = pd.read_csv('kidney_disease.csv')\n",
        "df  = df.drop(['id'],axis=1)\n",
        "\n",
        "\n",
        "# separating data into different classes\n",
        "real = ['sc','pot','hemo','rc',]\n",
        "integer = ['age','bp','bgr','bu','sod','pcv','wc',]\n",
        "label = ['classification']\n",
        "cat = list(set(df.columns) - set(real)-set(integer)-set(label))\n",
        "\n",
        "# Removing parsing errors\n",
        "df = df.replace('\\t?',np.nan)\n",
        "df = df.replace('\\tyes','yes')\n",
        "df = df.replace(' yes','yes')\n",
        "df = df.replace('yes\\t','yes')\n",
        "df = df.replace('\\tno','no')\n",
        "df = df.replace('ckd\\t','ckd')\n",
        "df = df.replace('ckd',1)\n",
        "df = df.replace('notckd',0)\n",
        "\n",
        "\n",
        "\n",
        "\n",
        "\n",
        "# Filling the null values with mean you can also use other statistic like mode or median\n",
        "for r in real:\n",
        "    mean = np.array(df[r][~df[r].isna()]).astype('float').mean()\n",
        "    df[r] = df[r].fillna(mean)\n",
        "for i in integer:\n",
        "    mean = np.array(df[i][~df[i].isna()]).astype('int').mean()\n",
        "    df[i] = df[i].fillna(int(mean))\n",
        "\n",
        "\n",
        "X = df.drop(label,axis=1)\n",
        "Y = df[label]\n",
        "\n",
        "X['pcv'] = X['pcv'].astype(int)\n",
        "X['wc'] = X['wc'].astype(int)\n",
        "X['rc'] = X['rc'].astype(float)\n",
        "# You need to convert the catagorical variables to binary u can use pd.get_dummies to do so\n",
        "\n",
        "X = pd.get_dummies(X, columns=cat)\n",
        "\n",
        "ind = X.columns.values.tolist()\n",
        "print(ind)\n",
        "index_real = []\n",
        "for r in real:\n",
        "  temp = ind.index(r)\n",
        "  index_real.append(temp)\n",
        "\n",
        "index_int = []\n",
        "for i in integer:\n",
        "  temp = ind.index(i)\n",
        "  index_int.append(temp)\n",
        "\n",
        "index_bin = list(set(range(0, len(ind))) - set(index_real) - set(index_int))\n",
        "print(index_bin)\n",
        "X = X.to_numpy()\n",
        "Y = Y.to_numpy()"
      ]
    },
    {
      "cell_type": "code",
      "source": [
        "id_list = list(range(len(X)))\n",
        "random.shuffle(id_list)\n",
        "id_train = id_list[0:134]\n",
        "print(len(id_train))\n",
        "id_val = id_list[134:267]\n",
        "print(len(id_val))\n",
        "id_test = id_list[267:]\n",
        "print(len(id_test))"
      ],
      "metadata": {
        "colab": {
          "base_uri": "https://localhost:8080/"
        },
        "id": "nI-KRqifYRQn",
        "outputId": "18008dde-5cc1-416c-e456-5e36fd6a0011"
      },
      "execution_count": null,
      "outputs": [
        {
          "output_type": "stream",
          "name": "stdout",
          "text": [
            "134\n",
            "133\n",
            "133\n"
          ]
        }
      ]
    },
    {
      "cell_type": "code",
      "source": [
        "X_train = X[id_train]\n",
        "print(X_train.shape)\n",
        "Y_train = Y[id_train]\n",
        "print(Y_train.shape)\n",
        "\n",
        "X_val = X[id_val]\n",
        "print(X_val.shape)\n",
        "Y_val = Y[id_val]\n",
        "print(Y_val.shape)\n",
        "\n",
        "X_test = X[id_test]\n",
        "print(X_test.shape)\n",
        "Y_test = Y[id_test]\n",
        "print(Y_test.shape)\n"
      ],
      "metadata": {
        "colab": {
          "base_uri": "https://localhost:8080/"
        },
        "id": "I4KM99JnYw4t",
        "outputId": "0b18eb37-f733-4103-81d6-620b52b9207d"
      },
      "execution_count": null,
      "outputs": [
        {
          "output_type": "stream",
          "name": "stdout",
          "text": [
            "(134, 48)\n",
            "(134, 1)\n",
            "(133, 48)\n",
            "(133, 1)\n",
            "(133, 48)\n",
            "(133, 1)\n"
          ]
        }
      ]
    },
    {
      "cell_type": "code",
      "source": [
        "# from sklearn import neighbors\n",
        "from sklearn.neighbors import KNeighborsClassifier\n",
        "from sklearn.metrics import DistanceMetric, accuracy_score\n",
        "from scipy.spatial import distance\n",
        "\n",
        "d1 = DistanceMetric.get_metric('minkowski')\n",
        "d2 = DistanceMetric.get_metric('canberra')\n",
        "d3 = DistanceMetric.get_metric('russellrao')\n",
        "\n",
        "def mydist(x1, x2):\n",
        "  return distance.minkowski(x1[index_real], x2[index_real]) + distance.canberra(x1[index_int], x2[index_int]) + distance.russellrao(x1[index_bin], x2[index_bin])\n",
        "\n",
        "k_list = [1, 3, 5, 7, 9]\n",
        "scores = []\n",
        "for k in range(1, 10, 2):\n",
        "  knn = KNeighborsClassifier(k, metric=mydist)\n",
        "  knn.fit(X_train, Y_train.ravel())\n",
        "  scores.append(knn.score(X_val, Y_val))\n",
        "print(scores)\n",
        "\n",
        "knn = KNeighborsClassifier(1, metric=mydist)\n",
        "knn.fit(X_train, Y_train.ravel())\n",
        "# Y_pred = knn.predict(X_test)\n",
        "# count = 0\n",
        "# for i in range(len(Y_pred)):\n",
        "#   print(\"{}  {}\".format(Y_pred[i], Y_test[i]))\n",
        "#   if Y_pred[i] == Y_test[i][0]:\n",
        "#     count += 1\n",
        "# print(count)\n",
        "print(knn.score(X_test, Y_test))"
      ],
      "metadata": {
        "colab": {
          "base_uri": "https://localhost:8080/"
        },
        "id": "JWQQElF8bG_D",
        "outputId": "73decaad-3448-4d42-a6b1-eb8c0b04ce9f"
      },
      "execution_count": null,
      "outputs": [
        {
          "output_type": "stream",
          "name": "stdout",
          "text": [
            "[0.9398496240601504, 0.9624060150375939, 0.9699248120300752, 0.9699248120300752, 0.9774436090225563]\n",
            "0.924812030075188\n"
          ]
        }
      ]
    },
    {
      "cell_type": "code",
      "source": [
        "from sklearn.neighbors import KernelDensity\n",
        "print(index_real)\n",
        "print(index_int)\n",
        "print(Y_test)"
      ],
      "metadata": {
        "colab": {
          "base_uri": "https://localhost:8080/"
        },
        "id": "12Nyth9qh_1k",
        "outputId": "e8ad6707-bb25-48f6-b00f-478eeb7b5ff1"
      },
      "execution_count": null,
      "outputs": [
        {
          "output_type": "stream",
          "name": "stdout",
          "text": [
            "[4, 6, 7, 10]\n",
            "[0, 1, 2, 3, 5, 8, 9]\n",
            "[[0]\n",
            " [1]\n",
            " [1]\n",
            " [0]\n",
            " [1]\n",
            " [0]\n",
            " [1]\n",
            " [1]\n",
            " [1]\n",
            " [1]\n",
            " [1]\n",
            " [1]\n",
            " [1]\n",
            " [1]\n",
            " [1]\n",
            " [1]\n",
            " [1]\n",
            " [1]\n",
            " [0]\n",
            " [1]\n",
            " [1]\n",
            " [1]\n",
            " [1]\n",
            " [1]\n",
            " [1]\n",
            " [1]\n",
            " [0]\n",
            " [1]\n",
            " [0]\n",
            " [1]\n",
            " [1]\n",
            " [0]\n",
            " [1]\n",
            " [1]\n",
            " [0]\n",
            " [0]\n",
            " [1]\n",
            " [0]\n",
            " [1]\n",
            " [1]\n",
            " [0]\n",
            " [0]\n",
            " [0]\n",
            " [1]\n",
            " [1]\n",
            " [1]\n",
            " [1]\n",
            " [0]\n",
            " [1]\n",
            " [1]\n",
            " [0]\n",
            " [0]\n",
            " [1]\n",
            " [1]\n",
            " [0]\n",
            " [1]\n",
            " [1]\n",
            " [0]\n",
            " [1]\n",
            " [0]\n",
            " [1]\n",
            " [1]\n",
            " [1]\n",
            " [1]\n",
            " [0]\n",
            " [0]\n",
            " [1]\n",
            " [0]\n",
            " [1]\n",
            " [1]\n",
            " [1]\n",
            " [0]\n",
            " [1]\n",
            " [1]\n",
            " [0]\n",
            " [0]\n",
            " [1]\n",
            " [1]\n",
            " [0]\n",
            " [0]\n",
            " [1]\n",
            " [0]\n",
            " [1]\n",
            " [1]\n",
            " [1]\n",
            " [1]\n",
            " [0]\n",
            " [1]\n",
            " [1]\n",
            " [1]\n",
            " [1]\n",
            " [0]\n",
            " [1]\n",
            " [1]\n",
            " [1]\n",
            " [0]\n",
            " [0]\n",
            " [1]\n",
            " [0]\n",
            " [0]\n",
            " [1]\n",
            " [1]\n",
            " [1]\n",
            " [0]\n",
            " [1]\n",
            " [0]\n",
            " [1]\n",
            " [1]\n",
            " [0]\n",
            " [1]\n",
            " [1]\n",
            " [1]\n",
            " [1]\n",
            " [1]\n",
            " [0]\n",
            " [1]\n",
            " [1]\n",
            " [0]\n",
            " [0]\n",
            " [0]\n",
            " [0]\n",
            " [0]\n",
            " [0]\n",
            " [1]\n",
            " [1]\n",
            " [0]\n",
            " [1]\n",
            " [1]\n",
            " [1]\n",
            " [1]\n",
            " [0]\n",
            " [0]\n",
            " [0]]\n"
          ]
        }
      ]
    },
    {
      "cell_type": "code",
      "source": [
        "import statsmodels.api as sm\n",
        "Y_train = Y_train.reshape((134, 1))\n",
        "# print(np.append(X_train[:, index_real], Y_train, axis=1).shape)\n",
        "t = np.append(X_train, Y_train, axis=1)\n",
        "s = 'oooococcooc' + 'u' * 38\n",
        "density = sm.nonparametric.KDEMultivariate(data=t, var_type=s, bw='normal_reference')\n"
      ],
      "metadata": {
        "id": "kgZqKu1jjB_7"
      },
      "execution_count": null,
      "outputs": []
    },
    {
      "cell_type": "code",
      "source": [
        "print(density.bw)\n",
        "print(len(density.bw))"
      ],
      "metadata": {
        "colab": {
          "base_uri": "https://localhost:8080/"
        },
        "id": "u65quCX5tj1G",
        "outputId": "94d673c3-315a-433c-a3f7-1e5c762f918b"
      },
      "execution_count": null,
      "outputs": [
        {
          "output_type": "stream",
          "name": "stdout",
          "text": [
            "[1.43169317e+01 1.55473421e+01 6.76367488e+01 5.10125186e+01\n",
            " 8.32994720e+00 1.30199808e+01 2.95253200e+00 2.64940680e+00\n",
            " 8.22108402e+00 2.53143439e+03 8.78052420e-01 3.64411792e-01\n",
            " 3.64411792e-01 4.48317377e-01 4.45348934e-01 3.92915320e-01\n",
            " 3.92915320e-01 2.65286966e-01 2.53967332e-01 4.81275065e-01\n",
            " 3.04709591e-01 2.65286966e-01 3.13377642e-01 1.83166848e-01\n",
            " 0.00000000e+00 1.17184178e-01 4.16375024e-01 3.58003577e-01\n",
            " 4.12042572e-01 3.97979464e-01 3.29558306e-01 3.29558306e-01\n",
            " 2.28979857e-01 2.15039328e-01 3.64411792e-01 4.53852369e-01\n",
            " 1.99870005e-01 1.83166848e-01 3.13377642e-01 4.82354643e-01\n",
            " 4.67403176e-01 4.65451589e-01 4.12042572e-01 1.42976048e-01\n",
            " 1.83166848e-01 1.64463181e-01 1.83166848e-01 8.31750048e-02\n",
            " 4.70950879e-01]\n",
            "49\n"
          ]
        }
      ]
    },
    {
      "cell_type": "code",
      "source": [
        "count = 0\n",
        "tot = 0\n",
        "for i in range(133):\n",
        "  x_in = X_test[i].reshape((1, 48))\n",
        "  tot += 1\n",
        "  # aa = density.pdf(np.append(x_in, np.array([0]).reshape((1,1)), axis=1))\n",
        "  # ab = density.pdf(np.append(x_in, np.array([1]).reshape((1,1)), axis=1))\n",
        "  # print(aa)\n",
        "  # print(ab)\n",
        "  if density.pdf(np.append(x_in, np.array([0]).reshape((1,1)), axis=1)) > density.pdf(np.append(x_in, np.array([1]).reshape((1,1)), axis=1)):\n",
        "    if Y_test[i] == 0:\n",
        "      count += 1\n",
        "  else:\n",
        "    if Y_test[i] == 1:\n",
        "      count += 1\n",
        "\n",
        "print(count/tot)"
      ],
      "metadata": {
        "colab": {
          "base_uri": "https://localhost:8080/"
        },
        "id": "qtz4CJuhvCxC",
        "outputId": "e963ecaf-cc08-41dc-e9b0-84373d1ea0c7"
      },
      "execution_count": null,
      "outputs": [
        {
          "output_type": "stream",
          "name": "stdout",
          "text": [
            "0.6390977443609023\n"
          ]
        }
      ]
    }
  ]
}