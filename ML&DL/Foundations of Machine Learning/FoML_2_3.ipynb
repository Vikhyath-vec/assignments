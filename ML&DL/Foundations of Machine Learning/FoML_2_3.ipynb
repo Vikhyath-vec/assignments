{
  "nbformat": 4,
  "nbformat_minor": 0,
  "metadata": {
    "colab": {
      "provenance": []
    },
    "kernelspec": {
      "name": "python3",
      "display_name": "Python 3"
    },
    "language_info": {
      "name": "python"
    }
  },
  "cells": [
    {
      "cell_type": "code",
      "execution_count": null,
      "metadata": {
        "id": "jTvnpKWV6tQo"
      },
      "outputs": [],
      "source": [
        "import numpy as np\n",
        "import scipy.io\n",
        "import pandas as pd\n",
        "import random\n",
        "from sklearn import datasets, linear_model\n",
        "from sklearn.metrics import explained_variance_score\n",
        "import matplotlib.pyplot as plt\n",
        "random.seed(0)"
      ]
    },
    {
      "cell_type": "code",
      "source": [
        "A = datasets.make_spd_matrix(10)\n",
        "b = np.random.rand(10, 1)\n",
        "c = np.random.rand()"
      ],
      "metadata": {
        "id": "_PsNXTEyeK0o"
      },
      "execution_count": null,
      "outputs": []
    },
    {
      "cell_type": "code",
      "source": [
        "norma = np.linalg.norm(A, ord=2)\n",
        "normb = np.linalg.norm(b)\n"
      ],
      "metadata": {
        "id": "N27lWuxPiXuo"
      },
      "execution_count": null,
      "outputs": []
    },
    {
      "cell_type": "code",
      "source": [
        "v = 0.1 * np.ones((10, 1))"
      ],
      "metadata": {
        "id": "nhuVeuvuieNR"
      },
      "execution_count": null,
      "outputs": []
    },
    {
      "cell_type": "code",
      "source": [
        "step = 1 / ((2 * norma) + normb)\n",
        "v = 0.1 * np.ones((10, 1))\n",
        "x_gd = list(range(1, 1001))\n",
        "y_gd = []\n",
        "for i in x_gd:\n",
        "  delta = 2 * np.matmul(A, v) - 2 * b\n",
        "  v -= step * delta\n",
        "  y_gd.append(np.matmul(np.matmul(v.T, A), v) - 2 * np.matmul(b.T, v) + c)\n",
        "\n",
        "y_gd = np.reshape(y_gd, newshape=[1000])\n",
        "# print(y)\n",
        "plt.plot(x_gd, y_gd)\n",
        "\n",
        "step = step / 100\n",
        "v = 0.1 * np.ones((10, 1))\n",
        "x_sgd = list(range(1, 100001))\n",
        "y_sgd = []\n",
        "for i in x_sgd:\n",
        "  delta = 2 * np.matmul(A, v) - 2 * b\n",
        "  noise = 0.5*np.random.randn(10)\n",
        "  noise = np.reshape(noise, newshape=[10, 1])\n",
        "  v -= step * (delta + noise)\n",
        "  y_sgd.append(np.matmul(np.matmul(v.T, A), v) - 2 * np.matmul(b.T, v) + c)\n",
        "\n",
        "y_sgd = np.reshape(y_sgd, newshape=[100000])\n",
        "plt.plot(x_sgd, y_sgd)\n",
        "\n",
        "minv = np.matmul(np.linalg.inv(A), b)\n",
        "minimum = np.matmul(np.matmul(minv.T, A), minv) - 2 * np.matmul(b.T, minv) + c\n",
        "# print(minimum)\n",
        "plt.axhline(y = minimum, color='green')\n",
        "plt.xlabel(\"Number of iterations\")\n",
        "plt.ylabel(\"Objective value\")\n",
        "plt.legend([\"GD\", \"SGD\", \"Optimal Objective\"])\n",
        "plt.show()"
      ],
      "metadata": {
        "colab": {
          "base_uri": "https://localhost:8080/",
          "height": 279
        },
        "id": "GPv1uQrvklBN",
        "outputId": "d40133d2-e945-424e-e057-0291f891cee2"
      },
      "execution_count": null,
      "outputs": [
        {
          "output_type": "display_data",
          "data": {
            "text/plain": [
              "<Figure size 432x288 with 1 Axes>"
            ],
            "image/png": "[encoded data removed]"
          },
          "metadata": {
            "needs_background": "light"
          }
        }
      ]
    }
  ]
}