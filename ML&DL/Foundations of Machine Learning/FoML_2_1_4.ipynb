{
  "nbformat": 4,
  "nbformat_minor": 0,
  "metadata": {
    "colab": {
      "provenance": []
    },
    "kernelspec": {
      "name": "python3",
      "display_name": "Python 3"
    },
    "language_info": {
      "name": "python"
    }
  },
  "cells": [
    {
      "cell_type": "code",
      "execution_count": null,
      "metadata": {
        "id": "FPAJV1f5mU6l"
      },
      "outputs": [],
      "source": [
        "import numpy as np\n",
        "import scipy.io\n",
        "import pandas as pd\n",
        "import random\n",
        "from sklearn import datasets, linear_model\n",
        "from sklearn.metrics import explained_variance_score\n",
        "random.seed(20)"
      ]
    },
    {
      "cell_type": "code",
      "source": [
        "m = 100\n",
        "dimensions = list(range(2, 51))\n",
        "res = []\n",
        "for d in dimensions:\n",
        "  mean = np.array([i for i in range(d)])\n",
        "  cov = np.ones((d, d))\n",
        "  X = np.random.multivariate_normal(mean, cov, 2*m)\n",
        "  Y = []\n",
        "  # w = np.array([i + random.randint(0, 10) for i in range(d)])\n",
        "  w = 0.8*np.ones((d))\n",
        "  for i in range(2*m):\n",
        "    y = np.random.normal(np.dot(X[i], w), 1)\n",
        "    Y.append(y)\n",
        "  Y = np.array(Y)\n",
        "  id_list = list(range(len(X)))\n",
        "  random.shuffle(id_list)\n",
        "  id_train = id_list[0:100]\n",
        "  id_test = id_list[100:]\n",
        "  X_train = X[id_train]\n",
        "  Y_train = Y[id_train]\n",
        "  X_test = X[id_test]\n",
        "  Y_test = Y[id_test]\n",
        "\n",
        "  linear_reg = linear_model.LinearRegression()\n",
        "  linear_reg.fit(X_train, Y_train)\n",
        "  Y_pred = linear_reg.predict(X_test)\n",
        "  exp_var = explained_variance_score(Y_test, Y_pred)\n",
        "  res.append(exp_var)"
      ],
      "metadata": {
        "id": "eguSf3-YmnjF"
      },
      "execution_count": null,
      "outputs": []
    },
    {
      "cell_type": "code",
      "source": [
        "import matplotlib.pyplot as plt"
      ],
      "metadata": {
        "id": "PvSgNlBgvvqd"
      },
      "execution_count": null,
      "outputs": []
    },
    {
      "cell_type": "code",
      "source": [
        "plt.plot(dimensions, res)\n",
        "plt.xlabel(\"Number of dimensions\")\n",
        "plt.ylabel(\"Explained variance\")\n",
        "plt.show()"
      ],
      "metadata": {
        "colab": {
          "base_uri": "https://localhost:8080/",
          "height": 279
        },
        "id": "GLOFcIxsv7wf",
        "outputId": "4d64464f-a17b-42fe-d47c-7abc4ce6f069"
      },
      "execution_count": null,
      "outputs": [
        {
          "output_type": "display_data",
          "data": {
            "text/plain": [
              "<Figure size 432x288 with 1 Axes>"
            ],
            "image/png": "[encoded data removed]"
          },
          "metadata": {
            "needs_background": "light"
          }
        }
      ]
    }
  ]
}